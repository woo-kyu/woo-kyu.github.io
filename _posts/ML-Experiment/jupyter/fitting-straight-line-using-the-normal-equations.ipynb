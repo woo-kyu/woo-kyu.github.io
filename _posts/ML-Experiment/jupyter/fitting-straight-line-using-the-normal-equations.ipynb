{
 "cells": [
  {
   "metadata": {},
   "cell_type": "markdown",
   "source": [
    "# Fitting a Straight Line Using the Normal Equations\n",
    "\n",
    "> Reference: OpenCV"
   ],
   "id": "d920f37ad24e7a6a"
  },
  {
   "metadata": {},
   "cell_type": "markdown",
   "source": "## Base configurations",
   "id": "e1142bb7f9bd2460"
  },
  {
   "metadata": {
    "ExecuteTime": {
     "end_time": "2025-08-13T17:03:16.542024Z",
     "start_time": "2025-08-13T17:03:16.536994Z"
    }
   },
   "cell_type": "code",
   "source": [
    "# Base Code\n",
    "\n",
    "import numpy as np\n",
    "import matplotlib.pyplot as plt\n",
    "import torch\n",
    "import torch.nn as nn\n",
    "import torch.optim as optim\n",
    "import random"
   ],
   "id": "2e48f151ea179538",
   "outputs": [],
   "execution_count": 46
  },
  {
   "metadata": {
    "ExecuteTime": {
     "end_time": "2025-08-13T17:03:16.574362Z",
     "start_time": "2025-08-13T17:03:16.569667Z"
    }
   },
   "cell_type": "code",
   "source": [
    "# Plt style setup\n",
    "\n",
    "plt.style.use(\"ggplot\")\n",
    "plt.rcParams[\"figure.figsize\"] = (10,5)\n",
    "plt.rcParams[\"axes.titlesize\"] = 18\n",
    "plt.rcParams[\"axes.labelsize\"] = 16\n",
    "block_plot = False"
   ],
   "id": "28a1e3fb69876117",
   "outputs": [],
   "execution_count": 47
  },
  {
   "metadata": {},
   "cell_type": "markdown",
   "source": "---",
   "id": "6290e7e7db04669e"
  },
  {
   "metadata": {
    "ExecuteTime": {
     "end_time": "2025-08-13T17:03:16.596825Z",
     "start_time": "2025-08-13T17:03:16.593391Z"
    }
   },
   "cell_type": "code",
   "source": "## Generate Linear Data with Small Noise",
   "id": "3e4e12f952d856cf",
   "outputs": [],
   "execution_count": 48
  },
  {
   "metadata": {
    "ExecuteTime": {
     "end_time": "2025-08-13T17:03:16.609240Z",
     "start_time": "2025-08-13T17:03:16.605336Z"
    }
   },
   "cell_type": "code",
   "source": [
    "def create_linear_data(num_data=100, y_offset=0, slope=1, stddev=0.3):\n",
    "    X = 10 * torch.rand(size=[num_data])\n",
    "    y = y_offset + slope * X + torch.normal(std=stddev, mean=0, size=[num_data])\n",
    "    # y = ax + b + noise. offset = b, slope = a\n",
    "    # Generate num_data samples from a normal distribution with a mean of 0 and standard deviation of stddev.\n",
    "\n",
    "    X = X.view((len(X), 1))\n",
    "    y = y.view((len(X), 1))\n",
    "\n",
    "    return X, y\n"
   ],
   "id": "dfca045f2908a090",
   "outputs": [],
   "execution_count": 49
  },
  {
   "metadata": {
    "ExecuteTime": {
     "end_time": "2025-08-13T17:03:16.636229Z",
     "start_time": "2025-08-13T17:03:16.632148Z"
    }
   },
   "cell_type": "code",
   "source": [
    "def plot_data(x, y, xlim=(0,10), ylim=(0,10)):\n",
    "    plt.figure()\n",
    "    plt.plot(x, y, \"b.\")\n",
    "    plt.xlabel(\"x\")\n",
    "    plt.ylabel(\"y\")\n",
    "    plt.xlim(xlim)\n",
    "    plt.ylim(ylim)\n",
    "    plt.show(block=block_plot)"
   ],
   "id": "44a29d78bf6b1e62",
   "outputs": [],
   "execution_count": 50
  },
  {
   "metadata": {},
   "cell_type": "markdown",
   "source": "## Generate Linear Data",
   "id": "a922ea615d53b73f"
  },
  {
   "metadata": {
    "ExecuteTime": {
     "end_time": "2025-08-13T17:03:16.741150Z",
     "start_time": "2025-08-13T17:03:16.653949Z"
    }
   },
   "cell_type": "code",
   "source": [
    "y_int = 3\n",
    "slope = .4\n",
    "X, y = create_linear_data(y_offset=y_int, slope= slope, stddev=0.3)\n",
    "\n",
    "plot_data(X, y)"
   ],
   "id": "e74b77687c2d680d",
   "outputs": [
    {
     "data": {
      "text/plain": [
       "<Figure size 1000x500 with 1 Axes>"
      ],
      "image/png": "[encoded data removed]"
     },
     "metadata": {},
     "output_type": "display_data"
    }
   ],
   "execution_count": 51
  },
  {
   "metadata": {},
   "cell_type": "markdown",
   "source": "## Implement Normal Equation",
   "id": "90c34e738fd153a1"
  },
  {
   "metadata": {
    "ExecuteTime": {
     "end_time": "2025-08-13T17:03:16.771546Z",
     "start_time": "2025-08-13T17:03:16.765533Z"
    }
   },
   "cell_type": "code",
   "source": [
    "def compute_theta(X, y):\n",
    "    m = X.shape[0] # Number of samples\n",
    "\n",
    "    # Concatenate a 1 to the beginning of each feature vector\n",
    "    X = torch.cat((torch.ones((m, 1)), X), axis=1)\n",
    "    y = y.view((m,1))\n",
    "\n",
    "    X_T = X.T\n",
    "    XT_X = torch.matmul(X_T, X)\n",
    "    XT_X_inv = torch.inverse(XT_X)\n",
    "    XT_y = torch.matmul(X_T, y)\n",
    "    theta = torch.matmul(XT_X_inv, XT_y)\n",
    "\n",
    "    return theta"
   ],
   "id": "afe9e64dd2cad4ee",
   "outputs": [],
   "execution_count": 52
  },
  {
   "metadata": {},
   "cell_type": "markdown",
   "source": "## Solve for the Model Parameters (Slope and y-intercept)",
   "id": "e24e878113ebb825"
  },
  {
   "metadata": {
    "ExecuteTime": {
     "end_time": "2025-08-13T17:03:16.825139Z",
     "start_time": "2025-08-13T17:03:16.799058Z"
    }
   },
   "cell_type": "code",
   "source": [
    "print(\"Actual Coefficients:\\n\")\n",
    "print(\"Slope: \", slope)\n",
    "print(\"Y-Int: \", y_int)\n",
    "print(\"\\n\")\n",
    "\n",
    "theta = compute_theta(X, y)\n",
    "\n",
    "y_int = theta[0].numpy()\n",
    "slope = theta[1].numpy()\n",
    "\n",
    "print(\"Predicted Coefficients:\\n\")\n",
    "print(\"Slope: \", slope[0])\n",
    "print(\"Y-Int: \", y_int[0])"
   ],
   "id": "7074eb4065a01ea2",
   "outputs": [
    {
     "name": "stdout",
     "output_type": "stream",
     "text": [
      "Actual Coefficients:\n",
      "\n",
      "Slope:  0.4\n",
      "Y-Int:  3\n",
      "\n",
      "\n",
      "Predicted Coefficients:\n",
      "\n",
      "Slope:  0.39007306\n",
      "Y-Int:  3.0646286\n"
     ]
    }
   ],
   "execution_count": 53
  },
  {
   "metadata": {},
   "cell_type": "markdown",
   "source": "## Display the Result",
   "id": "ad5d3ea8d05ea6f5"
  },
  {
   "metadata": {
    "ExecuteTime": {
     "end_time": "2025-08-13T17:03:16.897830Z",
     "start_time": "2025-08-13T17:03:16.891579Z"
    }
   },
   "cell_type": "code",
   "source": [
    "def predict_y(X, theta):\n",
    "    X = torch.cat((torch.ones((X.shape[0],1)), X), axis=1)\n",
    "    pred_y = torch.matmul(X, theta)\n",
    "\n",
    "    return pred_y\n"
   ],
   "id": "dd7c42c13139ee1f",
   "outputs": [],
   "execution_count": 54
  },
  {
   "metadata": {
    "ExecuteTime": {
     "end_time": "2025-08-13T17:03:38.868716Z",
     "start_time": "2025-08-13T17:03:38.069832Z"
    }
   },
   "cell_type": "code",
   "source": [
    "pred_y = predict_y(X, theta)\n",
    "plt.plot(X, y, \"b.\")\n",
    "plt.plot(X, pred_y, \"c-\")\n",
    "plt.xlim((0, 10))\n",
    "plt.ylim((0, 10))\n",
    "plt.text(1, 7.0, \"theta[0]: Slope = \" + str(slope[0]), fontsize=14)\n",
    "plt.text(1, 6.5, \"theta[1]: Y-Int = \" + str(y_int[0]), fontsize=14)\n",
    "plt.xlabel(\"X\")\n",
    "plt.ylabel(\"y\")"
   ],
   "id": "a721dbbe4f14f0c7",
   "outputs": [
    {
     "data": {
      "text/plain": [
       "Text(0, 0.5, 'y')"
      ]
     },
     "execution_count": 55,
     "metadata": {},
     "output_type": "execute_result"
    },
    {
     "data": {
      "text/plain": [
       "<Figure size 1000x500 with 1 Axes>"
      ],
      "image/png": "[encoded data removed]"
     },
     "metadata": {},
     "output_type": "display_data"
    }
   ],
   "execution_count": 55
  },
  {
   "metadata": {},
   "cell_type": "code",
   "outputs": [],
   "execution_count": null,
   "source": "",
   "id": "d6e52c2909e7cb1a"
  }
 ],
 "metadata": {
  "kernelspec": {
   "display_name": "Python 3",
   "language": "python",
   "name": "python3"
  },
  "language_info": {
   "codemirror_mode": {
    "name": "ipython",
    "version": 2
   },
   "file_extension": ".py",
   "mimetype": "text/x-python",
   "name": "python",
   "nbconvert_exporter": "python",
   "pygments_lexer": "ipython2",
   "version": "2.7.6"
  }
 },
 "nbformat": 4,
 "nbformat_minor": 5
}
